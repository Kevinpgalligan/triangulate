{
 "cells": [
  {
   "cell_type": "markdown",
   "id": "competent-miami",
   "metadata": {},
   "source": [
    "### Imports"
   ]
  },
  {
   "cell_type": "code",
   "execution_count": 1,
   "id": "incident-transfer",
   "metadata": {},
   "outputs": [],
   "source": [
    "import shapefile\n",
    "from bs4 import BeautifulSoup\n",
    "import pixie\n",
    "import math\n",
    "import scipy.spatial\n",
    "import numpy as np\n",
    "import collections"
   ]
  },
  {
   "cell_type": "markdown",
   "id": "fitting-condition",
   "metadata": {},
   "source": [
    "### Extracting Ireland country data\n",
    "Data source: https://www.townlands.ie/page/download/"
   ]
  },
  {
   "cell_type": "code",
   "execution_count": 2,
   "id": "dated-fisher",
   "metadata": {},
   "outputs": [],
   "source": [
    "sf = shapefile.Reader(\"counties/counties.shp\")\n",
    "shapes = sf.shapes()"
   ]
  },
  {
   "cell_type": "code",
   "execution_count": 3,
   "id": "prospective-apparel",
   "metadata": {},
   "outputs": [
    {
     "name": "stdout",
     "output_type": "stream",
     "text": [
      "1\n",
      "8938\n",
      "POLYGON\n",
      "(-7.3395627, 54.1467174)\n",
      "283\n"
     ]
    }
   ],
   "source": [
    "shape = shapes[0]\n",
    "print(len(shape.parts))\n",
    "print(len(shape.points))\n",
    "print(shape.shapeTypeName)\n",
    "print(shape.points[0])\n",
    "print(max([len(shape.parts) for shape in shapes]))"
   ]
  },
  {
   "cell_type": "code",
   "execution_count": 4,
   "id": "handed-romantic",
   "metadata": {},
   "outputs": [],
   "source": [
    "polys = []\n",
    "for shape in shapes:\n",
    "    parts = shape.parts[:]\n",
    "    parts.append(len(shape.points))\n",
    "    for i in range(len(parts)-1):\n",
    "        polys.append(shape.points[parts[i]:parts[i+1]])"
   ]
  },
  {
   "cell_type": "markdown",
   "id": "acknowledged-breed",
   "metadata": {},
   "source": [
    "### Extracting triangulation pillar data\n",
    "Downloaded the data here: http://www.trigpointing-ireland.org.uk/index.php"
   ]
  },
  {
   "cell_type": "code",
   "execution_count": 5,
   "id": "superb-terrorism",
   "metadata": {},
   "outputs": [],
   "source": [
    "with open(\"TPI.gpx.xml\", \"r\") as f:\n",
    "    xml = BeautifulSoup(f.read())"
   ]
  },
  {
   "cell_type": "code",
   "execution_count": null,
   "id": "important-mexican",
   "metadata": {},
   "outputs": [],
   "source": [
    "print(xml.prettify())"
   ]
  },
  {
   "cell_type": "code",
   "execution_count": 7,
   "id": "ranging-master",
   "metadata": {},
   "outputs": [],
   "source": [
    "pillarElements = xml.findAll(\"wpt\")\n",
    "pillars = []\n",
    "for pillarEle in pillarElements:\n",
    "    lat, lon = map(lambda name: float(pillarEle.attrs[name]),\n",
    "                   [\"lat\", \"lon\"])\n",
    "    descEle = pillarEle.find(\"desc\")\n",
    "    name = descEle.contents[0].strip()\n",
    "    pillars.append(dict(lat=lat, lon=lon, name=name))"
   ]
  },
  {
   "cell_type": "code",
   "execution_count": null,
   "id": "nervous-retention",
   "metadata": {},
   "outputs": [],
   "source": [
    "pillars"
   ]
  },
  {
   "cell_type": "code",
   "execution_count": 9,
   "id": "digital-morgan",
   "metadata": {},
   "outputs": [
    {
     "name": "stdout",
     "output_type": "stream",
     "text": [
      "868\n"
     ]
    }
   ],
   "source": [
    "print(len(pillars))"
   ]
  },
  {
   "cell_type": "markdown",
   "id": "speaking-training",
   "metadata": {},
   "source": [
    "### Defining the edges of the map & normalising the coordinates\n",
    "These calculations should only be run once, otherwise it'll mess up the coordinates and they'll have to be reloaded."
   ]
  },
  {
   "cell_type": "code",
   "execution_count": 10,
   "id": "chemical-transaction",
   "metadata": {},
   "outputs": [],
   "source": [
    "min_lon, max_lon = math.inf, -math.inf\n",
    "min_lat, max_lat = math.inf, -math.inf\n",
    "\n",
    "for poly in polys:\n",
    "    for point in poly:\n",
    "        lon, lat = point\n",
    "        min_lon = min(lon, min_lon)\n",
    "        max_lon = max(lon, max_lon)\n",
    "        min_lat = min(lat, min_lat)\n",
    "        max_lat = max(lat, max_lat)"
   ]
  },
  {
   "cell_type": "code",
   "execution_count": 11,
   "id": "noble-islam",
   "metadata": {},
   "outputs": [
    {
     "name": "stdout",
     "output_type": "stream",
     "text": [
      "-10.6626168 -5.4268157 51.388867 55.4352974\n",
      "\n",
      "\n"
     ]
    }
   ],
   "source": [
    "print(min_lon, max_lon, min_lat, max_lat)\n",
    "print()\n",
    "print()"
   ]
  },
  {
   "cell_type": "code",
   "execution_count": 12,
   "id": "coupled-being",
   "metadata": {},
   "outputs": [],
   "source": [
    "gap = 0.3\n",
    "min_lon -= gap\n",
    "max_lon += gap\n",
    "min_lat -= gap\n",
    "max_lat += gap"
   ]
  },
  {
   "cell_type": "markdown",
   "id": "creative-reputation",
   "metadata": {},
   "source": [
    "Normalise the boundaries of the country."
   ]
  },
  {
   "cell_type": "code",
   "execution_count": 13,
   "id": "chicken-reading",
   "metadata": {},
   "outputs": [],
   "source": [
    "for poly in polys:\n",
    "    for i in range(len(poly)):\n",
    "        lon, lat = poly[i]\n",
    "        lon = (lon-min_lon)/(max_lon-min_lon)\n",
    "        lat = (lat-min_lat)/(max_lat-min_lat)\n",
    "        poly[i] = (lon, lat)"
   ]
  },
  {
   "cell_type": "markdown",
   "id": "amended-highlight",
   "metadata": {},
   "source": [
    "And normalise the coordinates of the pillars."
   ]
  },
  {
   "cell_type": "code",
   "execution_count": 14,
   "id": "cooperative-amino",
   "metadata": {},
   "outputs": [],
   "source": [
    "for pillar in pillars:\n",
    "    lon, lat = pillar[\"lon\"], pillar[\"lat\"]\n",
    "    # Nice copy & paste job.\n",
    "    lon = (lon-min_lon)/(max_lon-min_lon)\n",
    "    lat = (lat-min_lat)/(max_lat-min_lat)\n",
    "    pillar[\"lon\"], pillar[\"lat\"] = lon, lat"
   ]
  },
  {
   "cell_type": "markdown",
   "id": "logical-aside",
   "metadata": {},
   "source": [
    "### Draw the map"
   ]
  },
  {
   "cell_type": "code",
   "execution_count": 15,
   "id": "necessary-paragraph",
   "metadata": {},
   "outputs": [],
   "source": [
    "def to_image_coords(W, H, x, y):\n",
    "    return x*W, (1-y)*H\n",
    "\n",
    "def draw_line(ctx, W, H, P1, P2):\n",
    "    # P1 and P2 are assumed to have normalised x & y coordinates\n",
    "    # in the range [0,1], these are converted to points in the image.\n",
    "    # Also has to invert the y value since positive y direction is down\n",
    "    # in drawing interfaces (usually).\n",
    "    ctx.stroke_segment(*to_image_coords(W, H, *P1),\n",
    "                       *to_image_coords(W, H, *P2))\n",
    "\n",
    "def draw_pillar(image, paint, W, H, P):\n",
    "    path = pixie.Path()\n",
    "    path.polygon(*to_image_coords(W, H, *P), 3, 3)\n",
    "    image.fill_path(path, paint)\n",
    "\n",
    "def draw_ireland(ctx, W, H, polys):\n",
    "    paint = pixie.Paint(pixie.SOLID_PAINT)\n",
    "    paint.color = pixie.parse_color(\"#000000\")\n",
    "\n",
    "    ctx.stroke_style = paint\n",
    "    ctx.line_width = 1\n",
    "\n",
    "    for poly in polys:\n",
    "        for i in range(len(poly)-1):\n",
    "            draw_line(ctx, W, H, poly[i], poly[i+1])\n",
    "        draw_line(ctx, W, H, poly[-1], poly[0])\n",
    "\n",
    "def draw_pillars(ctx, image, W, H, pillars):\n",
    "    pillar_paint = pixie.Paint(pixie.SOLID_PAINT)\n",
    "    pillar_paint.color = pixie.Color(0, 0, 1, 1)\n",
    "    ctx.fill_style = pillar_paint\n",
    "    for pillar in pillars:\n",
    "        draw_pillar(image, pillar_paint,\n",
    "                    W, H, (pillar[\"lon\"], pillar[\"lat\"]))\n",
    "\n",
    "W, H = 300, 360\n",
    "image = pixie.Image(W, H)\n",
    "image.fill(pixie.Color(1, 1, 1, 1))\n",
    "ctx = image.new_context()\n",
    "\n",
    "draw_ireland(ctx, W, H, polys)\n",
    "draw_pillars(ctx, image, W, H, pillars)\n",
    "for pillar in pillars:\n",
    "    if pillar[\"name\"] == \"Benbulbin\":\n",
    "        pillar_paint = pixie.Paint(pixie.SOLID_PAINT)\n",
    "        pillar_paint.color = pixie.Color(1, 0, 0, 1)\n",
    "        ctx.fill_style = pillar_paint\n",
    "        draw_pillar(image, pillar_paint, W, H, (pillar[\"lon\"], pillar[\"lat\"]))\n",
    "        break\n",
    "\n",
    "image.write_file(\"/tmp/map.png\")"
   ]
  },
  {
   "cell_type": "markdown",
   "id": "equivalent-church",
   "metadata": {},
   "source": [
    "### Create Delaunay triangulation"
   ]
  },
  {
   "cell_type": "code",
   "execution_count": 16,
   "id": "ecological-laser",
   "metadata": {},
   "outputs": [],
   "source": [
    "tri_data = np.array(\n",
    "    [(pillar[\"lon\"], pillar[\"lat\"]) for pillar in pillars])\n",
    "tri = scipy.spatial.Delaunay(tri_data)"
   ]
  },
  {
   "cell_type": "code",
   "execution_count": 17,
   "id": "selective-aviation",
   "metadata": {},
   "outputs": [
    {
     "data": {
      "text/plain": [
       "array([[796, 799, 821],\n",
       "       [799, 823, 821],\n",
       "       [826, 798, 796],\n",
       "       [864, 841, 119],\n",
       "       [148, 138, 146]], dtype=int32)"
      ]
     },
     "execution_count": 17,
     "metadata": {},
     "output_type": "execute_result"
    }
   ],
   "source": [
    "tri.simplices[:5]"
   ]
  },
  {
   "cell_type": "code",
   "execution_count": 18,
   "id": "adjusted-intervention",
   "metadata": {},
   "outputs": [
    {
     "name": "stdout",
     "output_type": "stream",
     "text": [
      "Missing 2 pillars:\n",
      "  Wolftrap Mountain\n",
      "  Bannanimma (Carrickaveilty)\n"
     ]
    }
   ],
   "source": [
    "def euclidean_dist(pillar1, pillar2):\n",
    "    return math.sqrt(\n",
    "        sum((pillar2[n]-pillar1[n])**2 for n in [\"lon\", \"lat\"]))\n",
    "\n",
    "length_threshold = 0.08\n",
    "triangles = []\n",
    "for triangle in tri.simplices:\n",
    "    bad_triangle = False\n",
    "    for (i, j) in [(0, 1), (1, 2), (2, 0)]:\n",
    "        P1 = pillars[triangle[i]]\n",
    "        P2 = pillars[triangle[j]]\n",
    "        if euclidean_dist(P1, P2) >= length_threshold:\n",
    "            bad_triangle = True\n",
    "    if not bad_triangle:\n",
    "        # Filtering out triangles that have a side length that\n",
    "        # is unrealistically large.\n",
    "        triangles.append(triangle)\n",
    "\n",
    "# Now confirm that we haven't left out any pillars.\n",
    "covered_pillars = set()\n",
    "for triangle in triangles:\n",
    "    for i in triangle:\n",
    "        covered_pillars.add(i)\n",
    "missing_pillars = set(range(len(pillars))) - covered_pillars\n",
    "print(f\"Missing {len(missing_pillars)} pillars:\")\n",
    "for i in missing_pillars:\n",
    "    print(\" \", pillars[i][\"name\"])"
   ]
  },
  {
   "cell_type": "markdown",
   "id": "informed-beverage",
   "metadata": {},
   "source": [
    "### Draw pillar mesh!"
   ]
  },
  {
   "cell_type": "code",
   "execution_count": 19,
   "id": "thrown-bottom",
   "metadata": {},
   "outputs": [],
   "source": [
    "def draw_mesh(ctx, W, H, pillars, triangles):\n",
    "    paint = pixie.Paint(pixie.SOLID_PAINT)\n",
    "    paint.color = pixie.Color(1, 0, 0, 0.7)\n",
    "\n",
    "    ctx.stroke_style = paint\n",
    "    ctx.line_width = 0.5\n",
    "    for triangle in triangles:\n",
    "        for (i, j) in [(0, 1), (1, 2), (2, 0)]:\n",
    "            P1 = pillars[triangle[i]]\n",
    "            P2 = pillars[triangle[j]]\n",
    "            draw_line(ctx, W, H,\n",
    "                      (P1[\"lon\"], P1[\"lat\"]),\n",
    "                      (P2[\"lon\"], P2[\"lat\"]))\n",
    "\n",
    "W, H = 300, 360\n",
    "image = pixie.Image(W, H)\n",
    "image.fill(pixie.Color(1, 1, 1, 1))\n",
    "ctx = image.new_context()\n",
    "\n",
    "#draw_ireland(ctx, W, H, polys)\n",
    "draw_pillars(ctx, image, W, H, pillars)\n",
    "draw_mesh(ctx, W, H, pillars, triangles)\n",
    "\n",
    "image.write_file(\"/tmp/mesh-only-map.png\")"
   ]
  },
  {
   "cell_type": "markdown",
   "id": "intense-delta",
   "metadata": {},
   "source": [
    "### Use law of sines  to construct mesh"
   ]
  },
  {
   "cell_type": "markdown",
   "id": "lonely-address",
   "metadata": {},
   "source": [
    "First, pick 2 starting pillars. They must be part of the same triangle."
   ]
  },
  {
   "cell_type": "code",
   "execution_count": 20,
   "id": "aggressive-pathology",
   "metadata": {},
   "outputs": [
    {
     "name": "stdout",
     "output_type": "stream",
     "text": [
      "763 766\n",
      "Yay, they're in this triangle: [766 763  87]\n"
     ]
    }
   ],
   "source": [
    "for i, pillar in enumerate(pillars):\n",
    "    if pillar[\"name\"] == \"Scalp Mountain\":\n",
    "        a_index = i\n",
    "        break\n",
    "for i, pillar in enumerate(pillars):\n",
    "    if pillar[\"name\"] == \"Creehennan Hill\":\n",
    "        b_index = i\n",
    "        break\n",
    "print(a_index, b_index)\n",
    "for triangle in triangles:\n",
    "    if a_index in triangle and b_index in triangle:\n",
    "        first_triangle = triangle\n",
    "        print(\"Yay, they're in this triangle:\", triangle)\n",
    "        break"
   ]
  },
  {
   "cell_type": "markdown",
   "id": "legal-brake",
   "metadata": {},
   "source": [
    "Calculate the distance between them, and initialise the data structures we need to propagate the distance through the triangle mesh. The amount of error in that distance measurement can be adjusted."
   ]
  },
  {
   "cell_type": "code",
   "execution_count": 21,
   "id": "nonprofit-blast",
   "metadata": {},
   "outputs": [],
   "source": [
    "# This is used to track the distances between pillars, i.e. the edge lengths\n",
    "# in the triangle mesh.\n",
    "distance_map = {}\n",
    "def get_distance_key(p1_id, p2_id):\n",
    "    return tuple(sorted([p1_id, p2_id]))\n",
    "def add_dist(distance_map, p1_id, p2_id, dist):\n",
    "    distance_map[get_distance_key(p1_id, p2_id)] = dist\n",
    "def get_dist(distance_map, p1_id, p2_id):\n",
    "    return distance_map[get_distance_key(p1_id, p2_id)]\n",
    "def dist_calculated_yet(distance_map, p1_id, p2_id):\n",
    "    return get_distance_key(p1_id, p2_id) in distance_map\n",
    "def get_pillar_coords(pillars, index):\n",
    "    return np.array([pillars[index][\"lon\"], pillars[index][\"lat\"]])\n",
    "def calc_final_coords(a_index, b_index, pillars, final_coords, dist_map):\n",
    "    \"\"\"Calculates coordinates of a pillar B based on the final coordinates\n",
    "    of a pillar B. Assumes that the distance between them has been calculated already,\n",
    "    and of course that the final position of A is already fixed.\"\"\"\n",
    "    a_position = final_coords[a_index]\n",
    "    direction_ab = get_pillar_coords(pillars, b_index) - a_position\n",
    "    direction_ab /= np.linalg.norm(direction_ab)\n",
    "    return a_position + get_dist(dist_map, a_index, b_index)*direction_ab\n",
    "error = 0.25\n",
    "# Making the distance smaller so it doesn't become massive.\n",
    "base_distance = (1-error)*euclidean_dist(pillars[a_index], pillars[b_index])\n",
    "add_dist(distance_map, a_index, b_index, base_distance)\n",
    "\n",
    "visited_pillars = set([a_index, b_index])\n",
    "triangles_by_pillar = collections.defaultdict(list)\n",
    "for triangle in triangles:\n",
    "    for pillar in triangle:\n",
    "        triangles_by_pillar[pillar].append(triangle)\n",
    "\n",
    "# For the pillars we add, track which triangle they're part of.\n",
    "connecting_triangles = {a_index: first_triangle, b_index: first_triangle}\n",
    "\n",
    "# Also, track the final coordinates of all the pillars\n",
    "# we visit when reconstructing the mesh. The first 2 pillars\n",
    "# are already fixed.\n",
    "final_coords = {}\n",
    "final_coords[a_index] = get_pillar_coords(pillars, a_index)\n",
    "final_coords[b_index] = calc_final_coords(\n",
    "    a_index, b_index, pillars, final_coords, distance_map)\n",
    "\n",
    "def at_least_one_sidelength_estimated(triangle, dist_map):\n",
    "    for (i, j) in [(0, 1), (1, 2), (2, 0)]:\n",
    "        if dist_calculated_yet(dist_map, triangle[i], triangle[j]):\n",
    "            return True\n",
    "    return False\n",
    "def fetch_new_candidates(triangles_by_pillar, dist_map, pillar, connecting_triangles):\n",
    "    neighbours = set()\n",
    "    for triangle in triangles_by_pillar[pillar]:\n",
    "        for neighbour in triangle:\n",
    "            if (neighbour not in visited_pillars\n",
    "                 and at_least_one_sidelength_estimated(triangle, dist_map)):\n",
    "                neighbours.add(neighbour)\n",
    "                connecting_triangles[neighbour] = triangle\n",
    "    return neighbours\n",
    "candidate_pillars = set()\n",
    "for pillar in visited_pillars:\n",
    "    candidate_pillars |= fetch_new_candidates(\n",
    "        triangles_by_pillar, distance_map, pillar, connecting_triangles)"
   ]
  },
  {
   "cell_type": "code",
   "execution_count": 22,
   "id": "inside-staff",
   "metadata": {},
   "outputs": [
    {
     "name": "stdout",
     "output_type": "stream",
     "text": [
      "{764, 87}\n",
      "{763: array([766, 763,  87], dtype=int32), 766: array([766, 763,  87], dtype=int32), 87: array([766, 763,  87], dtype=int32), 764: array([763, 766, 764], dtype=int32)}\n"
     ]
    }
   ],
   "source": [
    "print(candidate_pillars)\n",
    "print(connecting_triangles)"
   ]
  },
  {
   "cell_type": "markdown",
   "id": "destroyed-thursday",
   "metadata": {},
   "source": [
    "Now propagate the distance through the triangle mesh. We can only propagate to a pillar that is part of a triangle with 2 already-connected pillars (since that means we have a side length of the triangle and can determine the remaining distances)."
   ]
  },
  {
   "cell_type": "code",
   "execution_count": 23,
   "id": "greenhouse-patent",
   "metadata": {},
   "outputs": [],
   "source": [
    "def update_distances(p_id, left_id, right_id, pillars, distance_map):\n",
    "    plr_angle = math.radians(calc_angle(p_id, left_id, right_id, pillars))\n",
    "    lrp_angle = math.radians(calc_angle(left_id, right_id, p_id, pillars))\n",
    "    rpl_angle = math.radians(180 - math.degrees(plr_angle) - math.degrees(lrp_angle))\n",
    "    #print(\"UPDATE_DISTANCES\") # DEBUG\n",
    "    #print(pillars[p_id][\"name\"], pillars[left_id][\"name\"], pillars[right_id][\"name\"])\n",
    "    #print(math.degrees(plr_angle))\n",
    "    #print(math.degrees(lrp_angle))\n",
    "    #print(math.degrees(rpl_angle))\n",
    "    d = get_dist(distance_map, left_id, right_id)\n",
    "    # Law of sines.\n",
    "    pl_dist = d*math.sin(lrp_angle)/math.sin(rpl_angle)\n",
    "    pr_dist = d*math.sin(plr_angle)/math.sin(rpl_angle)\n",
    "    add_dist(distance_map, p_id, left_id, pl_dist)\n",
    "    add_dist(distance_map, p_id, right_id, pr_dist)\n",
    "\n",
    "def calc_angle(p_1, p_2, p_3, pillars):\n",
    "    \"\"\"Calculates the angle formed by p_1->p_2->p_3. They should be in clockwise order, I think.\"\"\"\n",
    "    pill1, pill2, pill3 = pillars[p_1], pillars[p_2], pillars[p_3]\n",
    "    line_12 = line_between(pill1, pill2)\n",
    "    line_23 = line_between(pill2, pill3)\n",
    "    # I was lazy, modified angle code from here...\n",
    "    # https://stackoverflow.com/questions/35176451/python-code-to-calculate-angle-between-three-point-using-their-3d-coordinates\n",
    "    dot = np.dot(line_12, line_23)\n",
    "    angle = math.degrees(np.arccos(abs(dot) / (np.linalg.norm(line_12) * np.linalg.norm(line_23))))\n",
    "    if dot > 0:\n",
    "        # This is supposed to ensure that we get\n",
    "        # the internal angle of the triangle. Hard to explain\n",
    "        # without drawing everything out.\n",
    "        angle = 180 - angle\n",
    "    return angle\n",
    "\n",
    "def line_between(pill1, pill2):\n",
    "    return np.array([pill2[\"lon\"] - pill1[\"lon\"],\n",
    "                     pill2[\"lat\"] - pill1[\"lat\"]])\n",
    "\n",
    "def clockwise_order(p_index, left_index, right_index, pillars):\n",
    "    p1 = pillars[p_index]\n",
    "    p2 = pillars[left_index]\n",
    "    p3 = pillars[right_index]\n",
    "    return np.linalg.det(np.array([\n",
    "        [p1[\"lon\"], p1[\"lat\"], 1],\n",
    "        [p2[\"lon\"], p2[\"lat\"], 1],\n",
    "        [p3[\"lon\"], p3[\"lat\"], 1]\n",
    "    ])) < 0\n",
    "\n",
    "while candidate_pillars:\n",
    "    p_id = candidate_pillars.pop()\n",
    "    triangle = connecting_triangles[p_id]\n",
    "    p_index = np.where(triangle == p_id)[0][0]\n",
    "    left = triangle[(p_index-1)%3]\n",
    "    right = triangle[(p_index+1)%3]\n",
    "    # Make sure we've labelled left & right correctly.\n",
    "    if not clockwise_order(p_index, left, right, pillars):\n",
    "        left, right = right, left\n",
    "    # We wanna calculate the side lengths connected to 'p'.\n",
    "    #       /| left\n",
    "    #      / |\n",
    "    #     /  |\n",
    "    #    /   |\n",
    "    # p ------ right\n",
    "    # Use the law of sines! Given the internal angles of the triangle and\n",
    "    # a single side length, the remaining side lengths can be calculated.\n",
    "    update_distances(p_id, left, right, pillars, distance_map)\n",
    "    final_coords[p_id] = calc_final_coords(\n",
    "        left, p_id, pillars, final_coords, distance_map)\n",
    "    visited_pillars.add(p_id)\n",
    "    candidate_pillars |= fetch_new_candidates(\n",
    "        triangles_by_pillar, distance_map, p_id, connecting_triangles)\n",
    "    actual_dist = np.linalg.norm(\n",
    "        get_pillar_coords(pillars, p_id)-get_pillar_coords(pillars, left))\n",
    "    estimated_dist = get_dist(distance_map, p_id, left)\n",
    "    ### Debugging to make sure we accurately reconstruct the triangle mesh when\n",
    "    ### there's no error in the initial measurement.\n",
    "    #if abs(actual_dist-estimated_dist)/actual_dist > 0.05:\n",
    "    #    print(\"fuck,\", len(visited_pillars))\n",
    "    #    print(actual_dist, estimated_dist)\n",
    "    #    print(pillars[p_id][\"name\"])\n",
    "    #    print(pillars[left][\"name\"])\n",
    "    #    print(pillars[right][\"name\"])\n",
    "    #    break"
   ]
  },
  {
   "cell_type": "markdown",
   "id": "resistant-sport",
   "metadata": {},
   "source": [
    "Finally, re-draw the map based on the estimated distances."
   ]
  },
  {
   "cell_type": "code",
   "execution_count": 24,
   "id": "devoted-possible",
   "metadata": {},
   "outputs": [],
   "source": [
    "\"\"\"These are the same as the `draw_pillars` and\n",
    "`draw_mesh` functions defined above, except\n",
    "coordinates are based on a `final_coords` dict.\"\"\"\n",
    "def draw_reconstructed_pillars(ctx, image, W, H, final_coords):\n",
    "    pillar_paint = pixie.Paint(pixie.SOLID_PAINT)\n",
    "    pillar_paint.color = pixie.Color(0, 0, 1, 1)\n",
    "    ctx.fill_style = pillar_paint\n",
    "    for coords in final_coords.values():\n",
    "        draw_pillar(image, pillar_paint, W, H, coords)\n",
    "\n",
    "def draw_reconstructed_mesh(ctx, W, H, final_coords, triangles):\n",
    "    paint = pixie.Paint(pixie.SOLID_PAINT)\n",
    "    paint.color = pixie.Color(1, 0, 0, 0.7)\n",
    "\n",
    "    ctx.stroke_style = paint\n",
    "    ctx.line_width = 0.5\n",
    "    for triangle in triangles:\n",
    "        can_draw = True\n",
    "        for i in triangle:\n",
    "            if i not in final_coords:\n",
    "                can_draw = False\n",
    "        if not can_draw:\n",
    "            continue\n",
    "        for (i, j) in [(0, 1), (1, 2), (2, 0)]:\n",
    "            draw_line(ctx, W, H,\n",
    "                      final_coords[triangle[i]],\n",
    "                      final_coords[triangle[j]])\n",
    "\n",
    "W, H = 300, 360\n",
    "image = pixie.Image(W, H)\n",
    "image.fill(pixie.Color(1, 1, 1, 1))\n",
    "ctx = image.new_context()\n",
    "\n",
    "draw_ireland(ctx, W, H, polys)\n",
    "\n",
    "draw_reconstructed_pillars(ctx, image, W, H, final_coords)\n",
    "draw_reconstructed_mesh(ctx, W, H, final_coords, triangles)\n",
    "image.write_file(\"/tmp/reconstructed_map.png\")\n",
    "\n",
    "#debug_pillars = [pillar for i, pillar in enumerate(pillars)\n",
    "#    if i in final_coords]\n",
    "#draw_pillars(ctx, image, W, H, debug_pillars)\n",
    "#draw_mesh(ctx, W, H, pillars, triangles)\n",
    "#image.write_file(\"/tmp/goal_map.png\")"
   ]
  },
  {
   "cell_type": "code",
   "execution_count": 137,
   "id": "smoking-passage",
   "metadata": {},
   "outputs": [
    {
     "name": "stdout",
     "output_type": "stream",
     "text": [
      "854\n",
      "868\n"
     ]
    }
   ],
   "source": [
    "print(len(visited_pillars))\n",
    "print(len(pillars))"
   ]
  },
  {
   "cell_type": "code",
   "execution_count": 120,
   "id": "expected-procedure",
   "metadata": {},
   "outputs": [
    {
     "name": "stdout",
     "output_type": "stream",
     "text": [
      "{763: array([0.616475  , 0.86062886]), 766: array([0.64250271, 0.87764365]), 764: array([0.62173289, 0.88401807]), 87: array([0.66509853, 0.83847079])}\n"
     ]
    }
   ],
   "source": [
    "print(final_coords)"
   ]
  }
 ],
 "metadata": {
  "kernelspec": {
   "display_name": "Python 3",
   "language": "python",
   "name": "python3"
  },
  "language_info": {
   "codemirror_mode": {
    "name": "ipython",
    "version": 3
   },
   "file_extension": ".py",
   "mimetype": "text/x-python",
   "name": "python",
   "nbconvert_exporter": "python",
   "pygments_lexer": "ipython3",
   "version": "3.8.10"
  }
 },
 "nbformat": 4,
 "nbformat_minor": 5
}
